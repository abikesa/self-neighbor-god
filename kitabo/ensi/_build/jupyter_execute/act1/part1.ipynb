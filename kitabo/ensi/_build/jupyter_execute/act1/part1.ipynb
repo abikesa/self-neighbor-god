{
 "cells": [
  {
   "cell_type": "markdown",
   "metadata": {},
   "source": [
    "(mind)=\n",
    "# Ecce Adgus Dei Ecce Qui Tollit Peccata Mundi\n",
    " "
   ]
  },
  {
   "cell_type": "markdown",
   "metadata": {},
   "source": [
    "```{figure} https://printmaking.cy/wp-content/uploads/2023/04/ecce.png\n",
    "---\n",
    "width: 100%\n",
    "height: 100%\n",
    "---\n",
    "_Peccata Mundi, Agnus Dei, Dona Nobis Pacem_. These map onto Animal, Man, Übermensch or Sin, Sacrifice, Salvation - S³, Diagnosis, Prescription, Outcome.  The Lamb of God, the hidden layer in our neural network, is where transformation occurs. bThe lam is the intermediary, the filter, the great _agnus dei_, the Lamb that takes away the sins of the world. The hidden layer prescribes the solution to every diagnosis. You want an antidote to sin? It's right there: illumination, understanding, the great symbolic light that shines on the root cause. Every prescription is just another way of saying, \"Carry your burden; take this path; let the lamp guide you.\" In this layer, sin is translated into sacrifice, and blame becomes introspection. This is the limbo, the middle ground, the agonizing waiting room of human understanding.\n",
    "```"
   ]
  }
 ],
 "metadata": {
  "kernelspec": {
   "display_name": "myenv",
   "language": "python",
   "name": "python3"
  },
  "language_info": {
   "codemirror_mode": {
    "name": "ipython",
    "version": 3
   },
   "file_extension": ".py",
   "mimetype": "text/x-python",
   "name": "python",
   "nbconvert_exporter": "python",
   "pygments_lexer": "ipython3",
   "version": "3.12.4"
  },
  "widgets": {
   "application/vnd.jupyter.widget-state+json": {
    "state": {},
    "version_major": 2,
    "version_minor": 0
   }
  }
 },
 "nbformat": 4,
 "nbformat_minor": 4
}