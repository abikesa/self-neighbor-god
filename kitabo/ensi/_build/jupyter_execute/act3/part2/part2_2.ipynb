{
 "cells": [
  {
   "cell_type": "markdown",
   "metadata": {},
   "source": [
    "# Marxist Analysis of Rodri\n",
    "\n",
    "<iframe src=\"https://www.youtube.com/embed/M5W8LyuivYs\" style=\"width:80%;height:350px;\"></iframe>\n",
    "\n",
    "### Rodri, Orlando, and the Horses: A Marxist Allegory of Labor and Exploitation\n",
    "\n",
    "In the pastoral world of *As You Like It*, Orlando’s frustration with his brother Oliver captures the essence of structural exploitation: “His horses are bred better, for, besides that they are fair with their feeding, they are taught their manage, and to that end riders dearly hired.” This line, dripping with indignation, finds a modern echo in the world of football, where Rodri—Manchester City’s midfield general—plays the role of Oliver’s horses, a beast of burden perfected for the system’s benefit. Meanwhile, Oliver himself, the indifferent brother, maps onto Manchester City’s ownership and management, represented by the club’s Emirati owners and Pep Guardiola. Together, they form a tight web of control and commodification, where laborers like Rodri are reduced to high-performing assets.\n",
    "\n",
    "#### The Horses: Trained for Perfection, Stripped of Autonomy\n",
    "\n",
    "Rodri, like the horses in Orlando’s critique, is bred and conditioned for one purpose: performance. Every detail of his existence as a footballer is calibrated to maximize output. His physical and tactical training is overseen by an army of specialists—Guardiola and his team of analysts, fitness coaches, and medical staff, who act as the “riders dearly hired.” Rodri’s manage is taught to him with meticulous care: the angles of his passes, his positioning on the pitch, even the pace at which he covers ground. He is not merely a player; he is a product, the peak of Guardiola’s systematic genius.\n",
    "\n",
    "But as with Oliver’s horses, this perfection comes at a cost. Rodri, like the animals Orlando compares himself to, has no autonomy. His brilliance is not his own; it is cultivated and extracted by a system that prioritizes results over the well-being of its workers. His minutes—over 4,000 in the 2023/24 season—are not a badge of honor but a measure of exploitation, pushing his body to its breaking point. Just as Oliver’s horses are better fed and cared for than Orlando, Rodri is better supported than most footballers—but only because his value as a commodity demands it.\n",
    "\n",
    "#### Oliver and the Emirati Owners: The Callous Beneficiaries of Labor\n",
    "\n",
    "Oliver, Orlando’s brother, serves as a perfect parallel to Manchester City’s Emirati ownership. Both figures stand at the top of their respective hierarchies, reaping the rewards of labor they neither perform nor fully understand. Oliver’s wealth and privilege allow him to treat Orlando as expendable, reducing his brother’s humanity to a resource to be withheld or exploited at will. Similarly, Manchester City’s owners operate as distant oligarchs, their immense financial resources reshaping football into a global spectacle, with players like Rodri functioning as the engine of their dominance.\n",
    "\n",
    "This system is overseen by Pep Guardiola, who embodies the “riders dearly hired” to teach the horses their manage. Guardiola is celebrated as a mastermind, a coach whose tactical innovations push the boundaries of football. But beneath this praise lies a more troubling reality: Guardiola’s brilliance depends on the relentless conditioning of players like Rodri, whose physical and mental limits are tested to serve the club’s goals. In this sense, Guardiola is complicit in the same exploitation that defines Oliver’s treatment of Orlando.\n",
    "\n",
    "#### Orlando: The Untrained Wrestler in a System of Commodities\n",
    "\n",
    "Orlando, in contrast to Rodri, stands outside the system of commodification. His rebellion against Oliver is born not of refinement but of raw, ungoverned humanity. Where Rodri has been trained into perfection, Orlando wrestles with nothing but instinct and anger. His refusal to accept his brother’s dominance is not a calculated act of resistance but a clumsy, emotional rejection of a system that denies him dignity.\n",
    "\n",
    "Orlando’s lack of training preserves his freedom. He is not a thoroughbred horse with riders to guide him but a wild, untamed force—an individual whose value cannot be measured by his utility to others. His journey, from the wrestling match to his romance with Rosalind, is one of self-discovery, unburdened by the expectations of a system that seeks to control him. In this way, Orlando represents the antithesis of Rodri: a figure of unrefined rebellion in a world of calculated mastery.\n",
    "\n",
    "#### Conclusion: The Cost of Perfection\n",
    "\n",
    "Rodri and Orlando’s stories, though separated by centuries, converge on a single truth: systems of power reduce individuals to commodities, whether through the feudal dynamics of *As You Like It* or the capitalist machinery of modern football. Rodri’s perfection as a player mirrors the horses bred and trained by Oliver, their manage taught by hired riders. Meanwhile, Orlando’s rebellion highlights what is lost in this process: the messy, unpredictable humanity that resists commodification.\n",
    "\n",
    "In the end, Rodri’s injury, like Orlando’s mutiny, exposes the fragility of these systems. Both are reminders that no amount of training, feeding, or management can fully suppress the human spirit—or the costs of its exploitation."
   ]
  }
 ],
 "metadata": {
  "kernelspec": {
   "display_name": "myenv",
   "language": "python",
   "name": "python3"
  },
  "language_info": {
   "codemirror_mode": {
    "name": "ipython",
    "version": 3
   },
   "file_extension": ".py",
   "mimetype": "text/x-python",
   "name": "python",
   "nbconvert_exporter": "python",
   "pygments_lexer": "ipython3",
   "version": "3.12.4"
  },
  "widgets": {
   "application/vnd.jupyter.widget-state+json": {
    "state": {},
    "version_major": 2,
    "version_minor": 0
   }
  }
 },
 "nbformat": 4,
 "nbformat_minor": 4
}