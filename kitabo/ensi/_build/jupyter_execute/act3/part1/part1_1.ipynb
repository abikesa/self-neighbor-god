{
 "cells": [
  {
   "cell_type": "markdown",
   "metadata": {},
   "source": [
    "# Man City September Form\n",
    "\n",
    "As of September 2024, Manchester City was performing admirably in the Premier League, maintaining an `unbeaten record` and leading the league standings. Their strong start included victories over teams like Burnley and West Ham United, showcasing their dominance and setting high expectations for the season. \n",
    "\n",
    "> *Injured Rodri’s Absence Will Tell Us If He’s The World’s Best Player*      \n",
    "-- Henry Flynn, [Sep 23, 2024](https://www.forbes.com/sites/henryflynn/2024/09/23/injured-rodris-absence-will-tell-us-if-hes-the-worlds-best-player/)\n",
    "\n",
    "However, the subsequent months have been nothing short of a disaster for the reigning champions. A series of poor performances has seen them plummet to sixth place in the Premier League, trailing leaders Liverpool by nine points. This decline is unprecedented for a team that has dominated English football in recent years. \n",
    "\n",
    "The situation reached a new low with a 2-1 defeat to Aston Villa, marking their ninth loss in 12 matches. Such a dismal run of form is unacceptable for a club of Manchester City's stature and resources. The defensive frailties are glaring, having conceded 27 goals in those 12 games, a statistic that underscores a lack of organization and discipline at the back. \n",
    "\n",
    "Manager Pep Guardiola, once hailed as a tactical genius, now faces serious questions about his ability to arrest this decline. His recent contract extension seems ill-timed, given the team's current predicament. The decision to let go of young talents like Cole Palmer, who is now excelling elsewhere, appears shortsighted and has left the squad lacking depth and creativity. \n",
    "\n",
    "> *At 9/12 Henry Flynn had a most worthy hypothesis*      \n",
    "-- Yours Truly, Dec 21, 2024\n",
    "\n",
    "The players, too, must shoulder the blame. Erling Haaland, who was expected to be a game-changer, has underperformed, failing to provide the goals and impact that were anticipated. The team's overreliance on aging stars has rendered their play predictable and sluggish, a far cry from the dynamic football that once enthralled fans and neutrals alike. \n",
    "\n",
    "<iframe src=\"https://www.youtube.com/embed/zryN1pb3cs8\" style=\"width:80%;height:350px;\"></iframe>\n",
    "\n",
    "```{figure} ../../figures/blanche.*\n",
    "---\n",
    "width: 1\n",
    "height: 1\n",
    "---\n",
    "_Chicago Bulls Won 2 Three Peats With Jordan_. Have they won even one championship without him? So let's wait for Rodri to return!\n",
    "```\n",
    "\n",
    "In conclusion, Manchester City's current trajectory is alarming. Without immediate and decisive action, they risk not only missing out on the Premier League title but also failing to secure a Champions League spot for next season. The club's hierarchy, coaching staff, and players must urgently address these issues to halt this freefall and restore the club to its rightful place at the pinnacle of English football.\n",
    "\n",
    " "
   ]
  }
 ],
 "metadata": {
  "kernelspec": {
   "display_name": "myenv",
   "language": "python",
   "name": "python3"
  },
  "language_info": {
   "codemirror_mode": {
    "name": "ipython",
    "version": 3
   },
   "file_extension": ".py",
   "mimetype": "text/x-python",
   "name": "python",
   "nbconvert_exporter": "python",
   "pygments_lexer": "ipython3",
   "version": "3.12.4"
  },
  "widgets": {
   "application/vnd.jupyter.widget-state+json": {
    "state": {},
    "version_major": 2,
    "version_minor": 0
   }
  }
 },
 "nbformat": 4,
 "nbformat_minor": 4
}