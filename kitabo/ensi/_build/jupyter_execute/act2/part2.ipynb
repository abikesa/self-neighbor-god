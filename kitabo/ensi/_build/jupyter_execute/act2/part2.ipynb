{
 "cells": [
  {
   "cell_type": "markdown",
   "metadata": {},
   "source": [
    "(structure)=\n",
    "# `Ye` Have Done it Unto One of the `Least` of These my Brethren, Ye Have Done it Unto `Me`\n",
    "\n",
    "*Doing it to a worthy adversary doesn't cut it -- that is teenage David selfsih*\n",
    "\n",
    "\n",
    "```{figure} https://upload.wikimedia.org/wikipedia/commons/b/bb/%27David%27_by_Michelangelo_Fir_JBU004.jpg\n",
    "---\n",
    "width: 100%\n",
    "height: 100%\n",
    "---\n",
    "Matthew 25:40 challenges the ego-driven heroism of helping or flexing a \"worthy adversary,\" such as teenage David facing Goliath, by emphasizing the transformative power of serving \"the least\"—those marginalized and unable to reciprocate. True service lies not in grand, self-serving gestures but in humble, unacknowledged acts that align with divine purpose. It subverts traditional notions of heroism, calling for a shift from ego to grace, where redemption is found not in recognition but in compassion for the unseen and forgotten. Thus sayeth the Lord. And the Church Says?\n",
    "```"
   ]
  }
 ],
 "metadata": {
  "kernelspec": {
   "display_name": "myenv",
   "language": "python",
   "name": "python3"
  },
  "language_info": {
   "codemirror_mode": {
    "name": "ipython",
    "version": 3
   },
   "file_extension": ".py",
   "mimetype": "text/x-python",
   "name": "python",
   "nbconvert_exporter": "python",
   "pygments_lexer": "ipython3",
   "version": "3.12.4"
  },
  "widgets": {
   "application/vnd.jupyter.widget-state+json": {
    "state": {},
    "version_major": 2,
    "version_minor": 0
   }
  }
 },
 "nbformat": 4,
 "nbformat_minor": 4
}