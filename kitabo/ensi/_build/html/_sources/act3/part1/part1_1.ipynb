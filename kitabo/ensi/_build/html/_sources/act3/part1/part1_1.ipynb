{
 "cells": [
  {
   "cell_type": "markdown",
   "metadata": {},
   "source": [
    "\n",
    "# Injured Rodri’s Absence Will Tell Us If He’s The World’s Best Player\n",
    "\n",
    "*In this adversarial sport, the midfielder is a key part of the tiki-taka network & Rodri is considered the very best in the world. What does it say of this \"neural network\" if one node's weight is reweighted?? Or substituted with another node?*\n",
    "\n",
    "*By Henry Flynn, Contributor*  \n",
    "*Henry Flynn is a journalist covering Spanish soccer*  \n",
    "*Published on September 23, 2024, at 07:06 PM EDT*  \n",
    "*Updated on September 23, 2024, at 07:23 PM EDT*  \n",
    "*Source: [Forbes](https://www.forbes.com/sites/henryflynn/2024/09/23/injured-rodris-absence-will-tell-us-if-hes-the-worlds-best-player/)*\n",
    "\n",
    "![Rodri during a game for Manchester City against Inter Milan in the Champions League.](https://imageio.forbes.com/specials-images/imageserve/650f1e1e1e1e1e1e1e1e1e1/0x0.jpg?format=jpg&crop=1xw:1xh;center,top&fit=crop)\n",
    "\n",
    "*Rodri may not play again this season.*  \n",
    "*Visionhaus/Getty Images*\n",
    "\n",
    "Rodri, who started 50 games for a title-winning Manchester City last season—interspersed with international fixtures and then helping Spain win the European Championship—is at the center of a debate about whether professional soccer stars play too many matches.\n",
    "\n",
    "He’s already publicly opined that such workloads are too much to perform at the highest level, encouraging a dialogue between the game’s decision-makers and players. And now Rodri’s minutes, over 4,000 in sky blue during 2023/24, are cut. But not in the way he wanted; it took just three seconds to send him down another less-than-ideal path against Arsenal on Sunday.\n",
    "\n",
    "Indeed, the early collision with Kai Havertz was the first blow, after which Rodri reportedly tore his anterior cruciate ligament. The dreaded injury leaves him out for most, if not the whole, campaign. Therefore, City’s title credentials will sit a sterner examination without its precious midfielder. Demonstrating his importance, the Etihad Stadium team’s unbeaten tally with him in the lineup stands at 51 games.\n",
    "\n",
    "By extension, his lengthy absence will probably determine if Rodri is the best player in the world. The 28-year-old’s intelligent positioning, assured passing, and ability to dictate the pace of games anchor everything around him. If his teammates can’t replicate the relentless consistency needed to claim titles as Rodri looks on, it will hammer home exactly how vital the Spaniard is within the Cityzens’ machine.\n",
    "\n",
    "![A close-up of Pep Guardiola during Manchester City's Premier League game against Arsenal.](https://imageio.forbes.com/specials-images/imageserve/650f1e1e1e1e1e1e1e1e1e2/0x0.jpg?format=jpg&crop=1xw:1xh;center,top&fit=crop)\n",
    "\n",
    "*This could be Guardiola's toughest Premier League title challenge yet.*  \n",
    "*Getty Images*\n",
    "\n",
    "Beyond being a strong and long-limbed presence, the level of detail in Rodri’s game says a lot. Since his days as a youngster with Rayo Majadahonda, then Atlético Madrid and Villarreal, he’s evolved so much that City—aiming for a record-extending five consecutive first-division wins—has gone on to monopolize the English top flight when he plays.\n",
    "\n",
    "Then again, exactly how the squad fares minus Rodri will still be telling. Mateo Kovačić has shown his aptitude in a similar role, and coach Pep Guardiola has other options in İlkay Gündoğan and Rico Lewis, who can also manage games in the central positions. More to the point, should Guardiola continue the winning formula, the attention will be on his astute tactical mind—rather than Rodri’s skillset—in driving City’s success.\n",
    "\n",
    "Nevertheless, losing one of the first names on the team list poses a challenge. A deep-lying player, Rodri is one of the favorites to win the prestigious Ballon d’Or on October 28, awarded to the man voted best in the world. Given the palmarès is usually flamboyant attackers, such as Jude Bellingham and Vinícius Júnior this time, Rodri winning would nod towards his many attributes and measured style.\n",
    "\n",
    "The number 16 is currently in Barcelona, where he’s met the doctor Ramón Cugat—a medical expert who has supposedly treated Guardiola’s players on many occasions before and is assessing the severity of his injury. Meanwhile, amidst this Rodri hiatus on the field, with the race for honors taking a twist, the real value of Spain and City’s orchestrator becomes clearer.\n",
    "\n",
    "---\n",
    "\n",
    "## Verification of Claims\n",
    "\n",
    "- **Manchester City's Premier League Titles:** Manchester City has indeed achieved an unprecedented four consecutive Premier League titles and five titles in six years, underscoring their dominance in English football.\n",
    "\n",
    "- **League Position as of September 23, 2024:** As of September 23, 2024, Manchester City was among the top teams in the Premier League standings, reflecting their strong start to the season.\n",
    "\n",
    "- **Recent Performance:** As of December 21, 2024, Manchester City has experienced a significant downturn, losing nine of their last twelve games. Their latest defeat was a 2-1 loss to Aston Villa, marking a challenging period for the club. \n",
    "\n",
    "---\n",
    "\n",
    "*Follow Henry Flynn on [Twitter](https://twitter.com/henryflynn) or [LinkedIn](https://www.linkedin.com/in/henryflynn/).*\n",
    "\n",
    "---\n",
    "\n",
    "*For more articles by Henry Flynn, visit his [Forbes Contributor Page](https://www.forbes.com/sites/henryflynn/).*\n",
    "\n",
    "---\n",
    "\n",
    "*This article was originally published on [Forbes](https://www.forbes.com/sites/henryflynn/2024/09/23/injured-rodris-absence-will-tell-us-if-hes-the-worlds-best-player/).*\n",
    "\n",
    "\n",
    " "
   ]
  }
 ],
 "metadata": {
  "kernelspec": {
   "display_name": "myenv",
   "language": "python",
   "name": "python3"
  },
  "language_info": {
   "codemirror_mode": {
    "name": "ipython",
    "version": 3
   },
   "file_extension": ".py",
   "mimetype": "text/x-python",
   "name": "python",
   "nbconvert_exporter": "python",
   "pygments_lexer": "ipython3",
   "version": "3.12.4"
  },
  "widgets": {
   "application/vnd.jupyter.widget-state+json": {
    "state": {},
    "version_major": 2,
    "version_minor": 0
   }
  }
 },
 "nbformat": 4,
 "nbformat_minor": 4
}
